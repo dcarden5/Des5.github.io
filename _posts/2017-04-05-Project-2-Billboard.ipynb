{
 "cells": [
  {
   "cell_type": "code",
   "execution_count": 139,
   "metadata": {
    "collapsed": true
   },
   "outputs": [],
   "source": [
    "#Articulate all pandas and modules \n",
    "import pandas as pd\n",
    "import numpy as np\n",
    "import matplotlib.pyplot as plt\n",
    "import seaborn as sns\n",
    "import plotly\n",
    "import plotly.plotly as py\n",
    "import plotly.graph_objs as go\n",
    "import sys\n",
    "import scipy.stats as stats\n",
    "from numpy import mean, median\n",
    "from scipy.stats import mode\n",
    "from collections import Counter\n",
    "from random import shuffle\n",
    "plt.style.use('fivethirtyeight')\n",
    "%matplotlib inline\n"
   ]
  },
  {
   "cell_type": "code",
   "execution_count": 140,
   "metadata": {
    "collapsed": true
   },
   "outputs": [],
   "source": [
    "#Read in Billboard csv raw file\n",
    "bb = pd.read_csv('/Users/DES/DSI-NYC-5/labs/data-cleaning-billboard/assets/datasets/billboard.csv')\n"
   ]
  },
  {
   "cell_type": "code",
   "execution_count": 141,
   "metadata": {
    "collapsed": false
   },
   "outputs": [
    {
     "data": {
      "text/html": [
       "<div>\n",
       "<table border=\"1\" class=\"dataframe\">\n",
       "  <thead>\n",
       "    <tr style=\"text-align: right;\">\n",
       "      <th></th>\n",
       "      <th>year</th>\n",
       "      <th>artist.inverted</th>\n",
       "      <th>track</th>\n",
       "      <th>time</th>\n",
       "      <th>genre</th>\n",
       "      <th>date.entered</th>\n",
       "      <th>date.peaked</th>\n",
       "      <th>x1st.week</th>\n",
       "      <th>x2nd.week</th>\n",
       "      <th>x3rd.week</th>\n",
       "      <th>...</th>\n",
       "      <th>x67th.week</th>\n",
       "      <th>x68th.week</th>\n",
       "      <th>x69th.week</th>\n",
       "      <th>x70th.week</th>\n",
       "      <th>x71st.week</th>\n",
       "      <th>x72nd.week</th>\n",
       "      <th>x73rd.week</th>\n",
       "      <th>x74th.week</th>\n",
       "      <th>x75th.week</th>\n",
       "      <th>x76th.week</th>\n",
       "    </tr>\n",
       "  </thead>\n",
       "  <tbody>\n",
       "    <tr>\n",
       "      <th>0</th>\n",
       "      <td>2000</td>\n",
       "      <td>Destiny's Child</td>\n",
       "      <td>Independent Women Part I</td>\n",
       "      <td>3,38,00 AM</td>\n",
       "      <td>Rock</td>\n",
       "      <td>September 23, 2000</td>\n",
       "      <td>November 18, 2000</td>\n",
       "      <td>78</td>\n",
       "      <td>63</td>\n",
       "      <td>49</td>\n",
       "      <td>...</td>\n",
       "      <td>*</td>\n",
       "      <td>*</td>\n",
       "      <td>*</td>\n",
       "      <td>*</td>\n",
       "      <td>*</td>\n",
       "      <td>*</td>\n",
       "      <td>*</td>\n",
       "      <td>*</td>\n",
       "      <td>*</td>\n",
       "      <td>*</td>\n",
       "    </tr>\n",
       "    <tr>\n",
       "      <th>1</th>\n",
       "      <td>2000</td>\n",
       "      <td>Santana</td>\n",
       "      <td>Maria, Maria</td>\n",
       "      <td>4,18,00 AM</td>\n",
       "      <td>Rock</td>\n",
       "      <td>February 12, 2000</td>\n",
       "      <td>April 8, 2000</td>\n",
       "      <td>15</td>\n",
       "      <td>8</td>\n",
       "      <td>6</td>\n",
       "      <td>...</td>\n",
       "      <td>*</td>\n",
       "      <td>*</td>\n",
       "      <td>*</td>\n",
       "      <td>*</td>\n",
       "      <td>*</td>\n",
       "      <td>*</td>\n",
       "      <td>*</td>\n",
       "      <td>*</td>\n",
       "      <td>*</td>\n",
       "      <td>*</td>\n",
       "    </tr>\n",
       "    <tr>\n",
       "      <th>2</th>\n",
       "      <td>2000</td>\n",
       "      <td>Savage Garden</td>\n",
       "      <td>I Knew I Loved You</td>\n",
       "      <td>4,07,00 AM</td>\n",
       "      <td>Rock</td>\n",
       "      <td>October 23, 1999</td>\n",
       "      <td>January 29, 2000</td>\n",
       "      <td>71</td>\n",
       "      <td>48</td>\n",
       "      <td>43</td>\n",
       "      <td>...</td>\n",
       "      <td>*</td>\n",
       "      <td>*</td>\n",
       "      <td>*</td>\n",
       "      <td>*</td>\n",
       "      <td>*</td>\n",
       "      <td>*</td>\n",
       "      <td>*</td>\n",
       "      <td>*</td>\n",
       "      <td>*</td>\n",
       "      <td>*</td>\n",
       "    </tr>\n",
       "    <tr>\n",
       "      <th>3</th>\n",
       "      <td>2000</td>\n",
       "      <td>Madonna</td>\n",
       "      <td>Music</td>\n",
       "      <td>3,45,00 AM</td>\n",
       "      <td>Rock</td>\n",
       "      <td>August 12, 2000</td>\n",
       "      <td>September 16, 2000</td>\n",
       "      <td>41</td>\n",
       "      <td>23</td>\n",
       "      <td>18</td>\n",
       "      <td>...</td>\n",
       "      <td>*</td>\n",
       "      <td>*</td>\n",
       "      <td>*</td>\n",
       "      <td>*</td>\n",
       "      <td>*</td>\n",
       "      <td>*</td>\n",
       "      <td>*</td>\n",
       "      <td>*</td>\n",
       "      <td>*</td>\n",
       "      <td>*</td>\n",
       "    </tr>\n",
       "    <tr>\n",
       "      <th>4</th>\n",
       "      <td>2000</td>\n",
       "      <td>Aguilera, Christina</td>\n",
       "      <td>Come On Over Baby (All I Want Is You)</td>\n",
       "      <td>3,38,00 AM</td>\n",
       "      <td>Rock</td>\n",
       "      <td>August 5, 2000</td>\n",
       "      <td>October 14, 2000</td>\n",
       "      <td>57</td>\n",
       "      <td>47</td>\n",
       "      <td>45</td>\n",
       "      <td>...</td>\n",
       "      <td>*</td>\n",
       "      <td>*</td>\n",
       "      <td>*</td>\n",
       "      <td>*</td>\n",
       "      <td>*</td>\n",
       "      <td>*</td>\n",
       "      <td>*</td>\n",
       "      <td>*</td>\n",
       "      <td>*</td>\n",
       "      <td>*</td>\n",
       "    </tr>\n",
       "  </tbody>\n",
       "</table>\n",
       "<p>5 rows × 83 columns</p>\n",
       "</div>"
      ],
      "text/plain": [
       "   year      artist.inverted                                  track  \\\n",
       "0  2000      Destiny's Child               Independent Women Part I   \n",
       "1  2000              Santana                           Maria, Maria   \n",
       "2  2000        Savage Garden                     I Knew I Loved You   \n",
       "3  2000              Madonna                                  Music   \n",
       "4  2000  Aguilera, Christina  Come On Over Baby (All I Want Is You)   \n",
       "\n",
       "         time genre        date.entered         date.peaked  x1st.week  \\\n",
       "0  3,38,00 AM  Rock  September 23, 2000   November 18, 2000         78   \n",
       "1  4,18,00 AM  Rock   February 12, 2000       April 8, 2000         15   \n",
       "2  4,07,00 AM  Rock    October 23, 1999    January 29, 2000         71   \n",
       "3  3,45,00 AM  Rock     August 12, 2000  September 16, 2000         41   \n",
       "4  3,38,00 AM  Rock      August 5, 2000    October 14, 2000         57   \n",
       "\n",
       "  x2nd.week x3rd.week    ...     x67th.week x68th.week x69th.week x70th.week  \\\n",
       "0        63        49    ...              *          *          *          *   \n",
       "1         8         6    ...              *          *          *          *   \n",
       "2        48        43    ...              *          *          *          *   \n",
       "3        23        18    ...              *          *          *          *   \n",
       "4        47        45    ...              *          *          *          *   \n",
       "\n",
       "  x71st.week x72nd.week x73rd.week x74th.week x75th.week x76th.week  \n",
       "0          *          *          *          *          *          *  \n",
       "1          *          *          *          *          *          *  \n",
       "2          *          *          *          *          *          *  \n",
       "3          *          *          *          *          *          *  \n",
       "4          *          *          *          *          *          *  \n",
       "\n",
       "[5 rows x 83 columns]"
      ]
     },
     "execution_count": 141,
     "metadata": {},
     "output_type": "execute_result"
    }
   ],
   "source": [
    "bb.head()\n"
   ]
  },
  {
   "cell_type": "code",
   "execution_count": 142,
   "metadata": {
    "collapsed": false,
    "scrolled": true
   },
   "outputs": [
    {
     "name": "stdout",
     "output_type": "stream",
     "text": [
      "<class 'pandas.core.frame.DataFrame'>\n",
      "RangeIndex: 317 entries, 0 to 316\n",
      "Data columns (total 83 columns):\n",
      "year               317 non-null int64\n",
      "artist.inverted    317 non-null object\n",
      "track              317 non-null object\n",
      "time               317 non-null object\n",
      "genre              317 non-null object\n",
      "date.entered       317 non-null object\n",
      "date.peaked        317 non-null object\n",
      "x1st.week          317 non-null int64\n",
      "x2nd.week          317 non-null object\n",
      "x3rd.week          317 non-null object\n",
      "x4th.week          317 non-null object\n",
      "x5th.week          317 non-null object\n",
      "x6th.week          317 non-null object\n",
      "x7th.week          317 non-null object\n",
      "x8th.week          317 non-null object\n",
      "x9th.week          317 non-null object\n",
      "x10th.week         317 non-null object\n",
      "x11th.week         317 non-null object\n",
      "x12th.week         317 non-null object\n",
      "x13th.week         317 non-null object\n",
      "x14th.week         317 non-null object\n",
      "x15th.week         317 non-null object\n",
      "x16th.week         317 non-null object\n",
      "x17th.week         317 non-null object\n",
      "x18th.week         317 non-null object\n",
      "x19th.week         317 non-null object\n",
      "x20th.week         317 non-null object\n",
      "x21st.week         317 non-null object\n",
      "x22nd.week         317 non-null object\n",
      "x23rd.week         317 non-null object\n",
      "x24th.week         317 non-null object\n",
      "x25th.week         39 non-null object\n",
      "x26th.week         37 non-null object\n",
      "x27th.week         30 non-null object\n",
      "x28th.week         317 non-null object\n",
      "x29th.week         317 non-null object\n",
      "x30th.week         317 non-null object\n",
      "x31st.week         317 non-null object\n",
      "x32nd.week         317 non-null object\n",
      "x33rd.week         317 non-null object\n",
      "x34th.week         317 non-null object\n",
      "x35th.week         317 non-null object\n",
      "x36th.week         317 non-null object\n",
      "x37th.week         317 non-null object\n",
      "x38th.week         317 non-null object\n",
      "x39th.week         317 non-null object\n",
      "x40th.week         317 non-null object\n",
      "x41st.week         317 non-null object\n",
      "x42nd.week         317 non-null object\n",
      "x43rd.week         317 non-null object\n",
      "x44th.week         317 non-null object\n",
      "x45th.week         317 non-null object\n",
      "x46th.week         317 non-null object\n",
      "x47th.week         317 non-null object\n",
      "x48th.week         317 non-null object\n",
      "x49th.week         317 non-null object\n",
      "x50th.week         317 non-null object\n",
      "x51st.week         317 non-null object\n",
      "x52nd.week         317 non-null object\n",
      "x53rd.week         317 non-null object\n",
      "x54th.week         317 non-null object\n",
      "x55th.week         317 non-null object\n",
      "x56th.week         317 non-null object\n",
      "x57th.week         317 non-null object\n",
      "x58th.week         317 non-null object\n",
      "x59th.week         317 non-null object\n",
      "x60th.week         317 non-null object\n",
      "x61st.week         317 non-null object\n",
      "x62nd.week         317 non-null object\n",
      "x63rd.week         317 non-null object\n",
      "x64th.week         317 non-null object\n",
      "x65th.week         317 non-null object\n",
      "x66th.week         317 non-null object\n",
      "x67th.week         317 non-null object\n",
      "x68th.week         317 non-null object\n",
      "x69th.week         317 non-null object\n",
      "x70th.week         317 non-null object\n",
      "x71st.week         317 non-null object\n",
      "x72nd.week         317 non-null object\n",
      "x73rd.week         317 non-null object\n",
      "x74th.week         317 non-null object\n",
      "x75th.week         317 non-null object\n",
      "x76th.week         317 non-null object\n",
      "dtypes: int64(2), object(81)\n",
      "memory usage: 205.6+ KB\n"
     ]
    }
   ],
   "source": [
    "bb.info()\n"
   ]
  },
  {
   "cell_type": "code",
   "execution_count": 143,
   "metadata": {
    "collapsed": false
   },
   "outputs": [
    {
     "data": {
      "text/plain": [
       "int64      2\n",
       "object    81\n",
       "dtype: int64"
      ]
     },
     "execution_count": 143,
     "metadata": {},
     "output_type": "execute_result"
    }
   ],
   "source": [
    "bb.get_dtype_counts()\n"
   ]
  },
  {
   "cell_type": "code",
   "execution_count": 144,
   "metadata": {
    "collapsed": true
   },
   "outputs": [],
   "source": [
    "#Replace column names containing periods with underscore\n",
    "bb.columns = [x.replace('.', '_') if '.' in x else x \\\n",
    "              for x in bb.columns]\n"
   ]
  },
  {
   "cell_type": "code",
   "execution_count": 145,
   "metadata": {
    "collapsed": false
   },
   "outputs": [
    {
     "data": {
      "text/plain": [
       "Index([u'year', u'artist_inverted', u'track', u'time', u'genre',\n",
       "       u'date_entered', u'date_peaked', u'x1st_week', u'x2nd_week',\n",
       "       u'x3rd_week', u'x4th_week', u'x5th_week', u'x6th_week', u'x7th_week',\n",
       "       u'x8th_week', u'x9th_week', u'x10th_week', u'x11th_week', u'x12th_week',\n",
       "       u'x13th_week', u'x14th_week', u'x15th_week', u'x16th_week',\n",
       "       u'x17th_week', u'x18th_week', u'x19th_week', u'x20th_week',\n",
       "       u'x21st_week', u'x22nd_week', u'x23rd_week', u'x24th_week',\n",
       "       u'x25th_week', u'x26th_week', u'x27th_week', u'x28th_week',\n",
       "       u'x29th_week', u'x30th_week', u'x31st_week', u'x32nd_week',\n",
       "       u'x33rd_week', u'x34th_week', u'x35th_week', u'x36th_week',\n",
       "       u'x37th_week', u'x38th_week', u'x39th_week', u'x40th_week',\n",
       "       u'x41st_week', u'x42nd_week', u'x43rd_week', u'x44th_week',\n",
       "       u'x45th_week', u'x46th_week', u'x47th_week', u'x48th_week',\n",
       "       u'x49th_week', u'x50th_week', u'x51st_week', u'x52nd_week',\n",
       "       u'x53rd_week', u'x54th_week', u'x55th_week', u'x56th_week',\n",
       "       u'x57th_week', u'x58th_week', u'x59th_week', u'x60th_week',\n",
       "       u'x61st_week', u'x62nd_week', u'x63rd_week', u'x64th_week',\n",
       "       u'x65th_week', u'x66th_week', u'x67th_week', u'x68th_week',\n",
       "       u'x69th_week', u'x70th_week', u'x71st_week', u'x72nd_week',\n",
       "       u'x73rd_week', u'x74th_week', u'x75th_week', u'x76th_week'],\n",
       "      dtype='object')"
      ]
     },
     "execution_count": 145,
     "metadata": {},
     "output_type": "execute_result"
    }
   ],
   "source": [
    "bb.columns\n"
   ]
  },
  {
   "cell_type": "code",
   "execution_count": 146,
   "metadata": {
    "collapsed": true
   },
   "outputs": [],
   "source": [
    "#Clean up weekly ranking fields by replacing Missing Data value '*' to 0\n",
    "def replace_nulls(value):\n",
    "    if value == '*':\n",
    "        return int(0)\n",
    "    else:\n",
    "        return value  \n"
   ]
  },
  {
   "cell_type": "code",
   "execution_count": 147,
   "metadata": {
    "collapsed": true
   },
   "outputs": [],
   "source": [
    "bb = bb.applymap(replace_nulls)\n"
   ]
  },
  {
   "cell_type": "code",
   "execution_count": 148,
   "metadata": {
    "collapsed": true
   },
   "outputs": [],
   "source": [
    "#Convert weeks variables to int\n",
    "bb.iloc[:,7:] = np.array(bb.iloc[:,7:]).astype(int)\n"
   ]
  },
  {
   "cell_type": "code",
   "execution_count": 149,
   "metadata": {
    "collapsed": false
   },
   "outputs": [
    {
     "data": {
      "text/plain": [
       "array(['3,38,00 AM', '4,18,00 AM', '4,07,00 AM', '3,45,00 AM',\n",
       "       '4,17,00 AM', '4,31,00 AM', '3,36,00 AM', '3,52,00 AM',\n",
       "       '4,25,00 AM', '3,10,00 AM', '3,18,00 AM', '4,01,00 AM',\n",
       "       '4,03,00 AM', '4,12,00 AM', '4,14,00 AM', '4,04,00 AM',\n",
       "       '3,50,00 AM', '3,43,00 AM', '4,21,00 AM', '3,24,00 AM',\n",
       "       '3,48,00 AM', '3,53,00 AM', '4,05,00 AM', '4,00,00 AM',\n",
       "       '4,16,00 AM', '4,57,00 AM', '4,34,00 AM', '3,15,00 AM',\n",
       "       '4,42,00 AM', '4,06,00 AM', '3,19,00 AM', '3,46,00 AM',\n",
       "       '3,51,00 AM', '4,23,00 AM', '3,56,00 AM', '3,54,00 AM',\n",
       "       '3,09,00 AM', '2,52,00 AM', '3,29,00 AM', '5,03,00 AM',\n",
       "       '3,23,00 AM', '5,16,00 AM', '7,50,00 AM', '3,30,00 AM',\n",
       "       '3,49,00 AM', '4,30,00 AM', '3,42,00 AM', '3,04,00 AM',\n",
       "       '4,02,00 AM', '4,46,00 AM', '3,35,00 AM', '3,57,00 AM',\n",
       "       '4,13,00 AM', '3,55,00 AM', '5,27,00 AM', '4,19,00 AM',\n",
       "       '4,08,00 AM', '3,22,00 AM', '3,32,00 AM', '3,41,00 AM',\n",
       "       '3,25,00 AM', '3,08,00 AM', '3,03,00 AM', '3,37,00 AM',\n",
       "       '2,38,00 AM', '4,41,00 AM', '4,09,00 AM', '7,10,00 AM',\n",
       "       '3,17,00 AM', '4,28,00 AM', '4,51,00 AM', '4,15,00 AM',\n",
       "       '6,50,00 AM', '3,47,00 AM', '3,12,00 AM', '5,19,00 AM',\n",
       "       '4,33,00 AM', '6,22,00 AM', '3,26,00 AM', '4,10,00 AM',\n",
       "       '7,35,00 AM', '3,44,00 AM', '5,36,00 AM', '4,20,00 AM',\n",
       "       '2,53,00 AM', '4,11,00 AM', '3,33,00 AM', '2,55,00 AM',\n",
       "       '5,13,00 AM', '4,38,00 AM', '3,40,00 AM', '5,28,00 AM',\n",
       "       '2,36,00 AM', '4,27,00 AM', '5,20,00 AM', '3,16,00 AM',\n",
       "       '5,26,00 AM', '4,36,00 AM', '3,39,00 AM', '4,24,00 AM',\n",
       "       '2,58,00 AM', '3,20,00 AM', '5,30,00 AM', '4,22,00 AM',\n",
       "       '4,40,00 AM', '5,33,00 AM', '5,00,00 AM', '3,05,00 AM',\n",
       "       '5,12,00 AM', '6,20,00 AM', '5,21,00 AM', '2,56,00 AM',\n",
       "       '3,59,00 AM', '4,45,00 AM', '4,35,00 AM', '3,27,00 AM',\n",
       "       '5,43,00 AM', '3,07,00 AM', '3,02,00 AM', '4,26,00 AM',\n",
       "       '4,32,00 AM', '6,17,00 AM', '5,10,00 AM', '4,43,00 AM',\n",
       "       '5,02,00 AM', '3,58,00 AM'], dtype=object)"
      ]
     },
     "execution_count": 149,
     "metadata": {},
     "output_type": "execute_result"
    }
   ],
   "source": [
    "#Data munging time feature\n",
    "bb['time'].unique()\n"
   ]
  },
  {
   "cell_type": "code",
   "execution_count": 150,
   "metadata": {
    "collapsed": true
   },
   "outputs": [],
   "source": [
    "#Clean up time variable\n",
    "bb['time'] = bb['time'].apply(lambda x: x.strip(' AM'))\n",
    "bb['time'] = bb['time'].apply(lambda x: x.replace(\",\",\":\"))\n",
    "bb['time'] = pd.to_datetime(bb['time'], errors='ignore')\n",
    "bb['time'] = pd.Series([val.time() for val in bb['time']])\n"
   ]
  },
  {
   "cell_type": "code",
   "execution_count": 151,
   "metadata": {
    "collapsed": false
   },
   "outputs": [
    {
     "data": {
      "text/plain": [
       "0    03:38:00\n",
       "1    04:18:00\n",
       "2    04:07:00\n",
       "3    03:45:00\n",
       "4    03:38:00\n",
       "5    04:17:00\n",
       "6    04:31:00\n",
       "7    03:36:00\n",
       "8    03:52:00\n",
       "9    04:25:00\n",
       "Name: time, dtype: object"
      ]
     },
     "execution_count": 151,
     "metadata": {},
     "output_type": "execute_result"
    }
   ],
   "source": [
    "bb['time'][0:10]\n"
   ]
  },
  {
   "cell_type": "code",
   "execution_count": 152,
   "metadata": {
    "collapsed": true
   },
   "outputs": [],
   "source": [
    "#Date fields data clean up: date_entered, date peaked\n",
    "bb['date_entered'] = pd.to_datetime(bb['date_entered'], errors='ignore')\n",
    "bb['date_peaked'] = pd.to_datetime(bb['date_peaked'], errors='ignore')\n"
   ]
  },
  {
   "cell_type": "code",
   "execution_count": 153,
   "metadata": {
    "collapsed": true
   },
   "outputs": [],
   "source": [
    "#Data validation to ensure date track entered does not surpass the date track peaked\n",
    "bb['date_diff']  = bb['date_peaked'] - bb['date_entered']\n",
    "bb['date_diff'] = bb['date_diff'].apply(lambda x: x.days)\n"
   ]
  },
  {
   "cell_type": "code",
   "execution_count": 154,
   "metadata": {
    "collapsed": false
   },
   "outputs": [
    {
     "data": {
      "text/html": [
       "<div>\n",
       "<table border=\"1\" class=\"dataframe\">\n",
       "  <thead>\n",
       "    <tr style=\"text-align: right;\">\n",
       "      <th></th>\n",
       "      <th>year</th>\n",
       "      <th>x1st_week</th>\n",
       "      <th>x2nd_week</th>\n",
       "      <th>x3rd_week</th>\n",
       "      <th>x4th_week</th>\n",
       "      <th>x5th_week</th>\n",
       "      <th>x6th_week</th>\n",
       "      <th>x7th_week</th>\n",
       "      <th>x8th_week</th>\n",
       "      <th>x9th_week</th>\n",
       "      <th>...</th>\n",
       "      <th>x68th_week</th>\n",
       "      <th>x69th_week</th>\n",
       "      <th>x70th_week</th>\n",
       "      <th>x71st_week</th>\n",
       "      <th>x72nd_week</th>\n",
       "      <th>x73rd_week</th>\n",
       "      <th>x74th_week</th>\n",
       "      <th>x75th_week</th>\n",
       "      <th>x76th_week</th>\n",
       "      <th>date_diff</th>\n",
       "    </tr>\n",
       "  </thead>\n",
       "  <tbody>\n",
       "    <tr>\n",
       "      <th>count</th>\n",
       "      <td>317.0</td>\n",
       "      <td>317.000000</td>\n",
       "      <td>317.000000</td>\n",
       "      <td>317.000000</td>\n",
       "      <td>317.000000</td>\n",
       "      <td>317.000000</td>\n",
       "      <td>317.000000</td>\n",
       "      <td>317.000000</td>\n",
       "      <td>317.000000</td>\n",
       "      <td>317.000000</td>\n",
       "      <td>...</td>\n",
       "      <td>317.0</td>\n",
       "      <td>317.0</td>\n",
       "      <td>317.0</td>\n",
       "      <td>317.0</td>\n",
       "      <td>317.0</td>\n",
       "      <td>317.0</td>\n",
       "      <td>317.0</td>\n",
       "      <td>317.0</td>\n",
       "      <td>317.0</td>\n",
       "      <td>317.000000</td>\n",
       "    </tr>\n",
       "    <tr>\n",
       "      <th>mean</th>\n",
       "      <td>2000.0</td>\n",
       "      <td>79.958991</td>\n",
       "      <td>70.050473</td>\n",
       "      <td>62.993691</td>\n",
       "      <td>56.558360</td>\n",
       "      <td>51.895899</td>\n",
       "      <td>46.249211</td>\n",
       "      <td>41.766562</td>\n",
       "      <td>38.646688</td>\n",
       "      <td>36.987382</td>\n",
       "      <td>...</td>\n",
       "      <td>0.0</td>\n",
       "      <td>0.0</td>\n",
       "      <td>0.0</td>\n",
       "      <td>0.0</td>\n",
       "      <td>0.0</td>\n",
       "      <td>0.0</td>\n",
       "      <td>0.0</td>\n",
       "      <td>0.0</td>\n",
       "      <td>0.0</td>\n",
       "      <td>52.246057</td>\n",
       "    </tr>\n",
       "    <tr>\n",
       "      <th>std</th>\n",
       "      <td>0.0</td>\n",
       "      <td>14.686865</td>\n",
       "      <td>20.122189</td>\n",
       "      <td>23.381535</td>\n",
       "      <td>25.562047</td>\n",
       "      <td>27.423747</td>\n",
       "      <td>28.501905</td>\n",
       "      <td>29.503096</td>\n",
       "      <td>29.974168</td>\n",
       "      <td>30.568141</td>\n",
       "      <td>...</td>\n",
       "      <td>0.0</td>\n",
       "      <td>0.0</td>\n",
       "      <td>0.0</td>\n",
       "      <td>0.0</td>\n",
       "      <td>0.0</td>\n",
       "      <td>0.0</td>\n",
       "      <td>0.0</td>\n",
       "      <td>0.0</td>\n",
       "      <td>0.0</td>\n",
       "      <td>40.867601</td>\n",
       "    </tr>\n",
       "    <tr>\n",
       "      <th>min</th>\n",
       "      <td>2000.0</td>\n",
       "      <td>15.000000</td>\n",
       "      <td>0.000000</td>\n",
       "      <td>0.000000</td>\n",
       "      <td>0.000000</td>\n",
       "      <td>0.000000</td>\n",
       "      <td>0.000000</td>\n",
       "      <td>0.000000</td>\n",
       "      <td>0.000000</td>\n",
       "      <td>0.000000</td>\n",
       "      <td>...</td>\n",
       "      <td>0.0</td>\n",
       "      <td>0.0</td>\n",
       "      <td>0.0</td>\n",
       "      <td>0.0</td>\n",
       "      <td>0.0</td>\n",
       "      <td>0.0</td>\n",
       "      <td>0.0</td>\n",
       "      <td>0.0</td>\n",
       "      <td>0.0</td>\n",
       "      <td>0.000000</td>\n",
       "    </tr>\n",
       "    <tr>\n",
       "      <th>25%</th>\n",
       "      <td>2000.0</td>\n",
       "      <td>74.000000</td>\n",
       "      <td>62.000000</td>\n",
       "      <td>52.000000</td>\n",
       "      <td>41.000000</td>\n",
       "      <td>34.000000</td>\n",
       "      <td>24.000000</td>\n",
       "      <td>17.000000</td>\n",
       "      <td>10.000000</td>\n",
       "      <td>8.000000</td>\n",
       "      <td>...</td>\n",
       "      <td>0.0</td>\n",
       "      <td>0.0</td>\n",
       "      <td>0.0</td>\n",
       "      <td>0.0</td>\n",
       "      <td>0.0</td>\n",
       "      <td>0.0</td>\n",
       "      <td>0.0</td>\n",
       "      <td>0.0</td>\n",
       "      <td>0.0</td>\n",
       "      <td>21.000000</td>\n",
       "    </tr>\n",
       "    <tr>\n",
       "      <th>50%</th>\n",
       "      <td>2000.0</td>\n",
       "      <td>81.000000</td>\n",
       "      <td>73.000000</td>\n",
       "      <td>66.000000</td>\n",
       "      <td>60.000000</td>\n",
       "      <td>55.000000</td>\n",
       "      <td>47.000000</td>\n",
       "      <td>41.000000</td>\n",
       "      <td>36.000000</td>\n",
       "      <td>34.000000</td>\n",
       "      <td>...</td>\n",
       "      <td>0.0</td>\n",
       "      <td>0.0</td>\n",
       "      <td>0.0</td>\n",
       "      <td>0.0</td>\n",
       "      <td>0.0</td>\n",
       "      <td>0.0</td>\n",
       "      <td>0.0</td>\n",
       "      <td>0.0</td>\n",
       "      <td>0.0</td>\n",
       "      <td>49.000000</td>\n",
       "    </tr>\n",
       "    <tr>\n",
       "      <th>75%</th>\n",
       "      <td>2000.0</td>\n",
       "      <td>91.000000</td>\n",
       "      <td>83.000000</td>\n",
       "      <td>79.000000</td>\n",
       "      <td>74.000000</td>\n",
       "      <td>71.000000</td>\n",
       "      <td>68.000000</td>\n",
       "      <td>62.000000</td>\n",
       "      <td>60.000000</td>\n",
       "      <td>60.000000</td>\n",
       "      <td>...</td>\n",
       "      <td>0.0</td>\n",
       "      <td>0.0</td>\n",
       "      <td>0.0</td>\n",
       "      <td>0.0</td>\n",
       "      <td>0.0</td>\n",
       "      <td>0.0</td>\n",
       "      <td>0.0</td>\n",
       "      <td>0.0</td>\n",
       "      <td>0.0</td>\n",
       "      <td>70.000000</td>\n",
       "    </tr>\n",
       "    <tr>\n",
       "      <th>max</th>\n",
       "      <td>2000.0</td>\n",
       "      <td>100.000000</td>\n",
       "      <td>100.000000</td>\n",
       "      <td>100.000000</td>\n",
       "      <td>100.000000</td>\n",
       "      <td>100.000000</td>\n",
       "      <td>99.000000</td>\n",
       "      <td>100.000000</td>\n",
       "      <td>99.000000</td>\n",
       "      <td>100.000000</td>\n",
       "      <td>...</td>\n",
       "      <td>0.0</td>\n",
       "      <td>0.0</td>\n",
       "      <td>0.0</td>\n",
       "      <td>0.0</td>\n",
       "      <td>0.0</td>\n",
       "      <td>0.0</td>\n",
       "      <td>0.0</td>\n",
       "      <td>0.0</td>\n",
       "      <td>0.0</td>\n",
       "      <td>315.000000</td>\n",
       "    </tr>\n",
       "  </tbody>\n",
       "</table>\n",
       "<p>8 rows × 78 columns</p>\n",
       "</div>"
      ],
      "text/plain": [
       "         year   x1st_week   x2nd_week   x3rd_week   x4th_week   x5th_week  \\\n",
       "count   317.0  317.000000  317.000000  317.000000  317.000000  317.000000   \n",
       "mean   2000.0   79.958991   70.050473   62.993691   56.558360   51.895899   \n",
       "std       0.0   14.686865   20.122189   23.381535   25.562047   27.423747   \n",
       "min    2000.0   15.000000    0.000000    0.000000    0.000000    0.000000   \n",
       "25%    2000.0   74.000000   62.000000   52.000000   41.000000   34.000000   \n",
       "50%    2000.0   81.000000   73.000000   66.000000   60.000000   55.000000   \n",
       "75%    2000.0   91.000000   83.000000   79.000000   74.000000   71.000000   \n",
       "max    2000.0  100.000000  100.000000  100.000000  100.000000  100.000000   \n",
       "\n",
       "        x6th_week   x7th_week   x8th_week   x9th_week     ...      x68th_week  \\\n",
       "count  317.000000  317.000000  317.000000  317.000000     ...           317.0   \n",
       "mean    46.249211   41.766562   38.646688   36.987382     ...             0.0   \n",
       "std     28.501905   29.503096   29.974168   30.568141     ...             0.0   \n",
       "min      0.000000    0.000000    0.000000    0.000000     ...             0.0   \n",
       "25%     24.000000   17.000000   10.000000    8.000000     ...             0.0   \n",
       "50%     47.000000   41.000000   36.000000   34.000000     ...             0.0   \n",
       "75%     68.000000   62.000000   60.000000   60.000000     ...             0.0   \n",
       "max     99.000000  100.000000   99.000000  100.000000     ...             0.0   \n",
       "\n",
       "       x69th_week  x70th_week  x71st_week  x72nd_week  x73rd_week  x74th_week  \\\n",
       "count       317.0       317.0       317.0       317.0       317.0       317.0   \n",
       "mean          0.0         0.0         0.0         0.0         0.0         0.0   \n",
       "std           0.0         0.0         0.0         0.0         0.0         0.0   \n",
       "min           0.0         0.0         0.0         0.0         0.0         0.0   \n",
       "25%           0.0         0.0         0.0         0.0         0.0         0.0   \n",
       "50%           0.0         0.0         0.0         0.0         0.0         0.0   \n",
       "75%           0.0         0.0         0.0         0.0         0.0         0.0   \n",
       "max           0.0         0.0         0.0         0.0         0.0         0.0   \n",
       "\n",
       "       x75th_week  x76th_week   date_diff  \n",
       "count       317.0       317.0  317.000000  \n",
       "mean          0.0         0.0   52.246057  \n",
       "std           0.0         0.0   40.867601  \n",
       "min           0.0         0.0    0.000000  \n",
       "25%           0.0         0.0   21.000000  \n",
       "50%           0.0         0.0   49.000000  \n",
       "75%           0.0         0.0   70.000000  \n",
       "max           0.0         0.0  315.000000  \n",
       "\n",
       "[8 rows x 78 columns]"
      ]
     },
     "execution_count": 154,
     "metadata": {},
     "output_type": "execute_result"
    }
   ],
   "source": [
    "bb.describe()\n"
   ]
  },
  {
   "cell_type": "code",
   "execution_count": 155,
   "metadata": {
    "collapsed": false
   },
   "outputs": [
    {
     "data": {
      "text/plain": [
       "datetime64[ns]     2\n",
       "int64             78\n",
       "object             4\n",
       "dtype: int64"
      ]
     },
     "execution_count": 155,
     "metadata": {},
     "output_type": "execute_result"
    }
   ],
   "source": [
    "bb.get_dtype_counts()\n"
   ]
  },
  {
   "cell_type": "code",
   "execution_count": 156,
   "metadata": {
    "collapsed": true
   },
   "outputs": [],
   "source": [
    "#Feature Engineering: Create Counter function to be used for \"Was Ever Number One on the Billboard Top 100\"\n",
    "def CounterFunc(x):\n",
    "    return Counter(x)[1]\n"
   ]
  },
  {
   "cell_type": "code",
   "execution_count": 157,
   "metadata": {
    "collapsed": true
   },
   "outputs": [],
   "source": [
    "bb['Counter'] = bb.count(axis=1)\n",
    "bb['Counter'] = bb.apply(CounterFunc, axis=1)\n"
   ]
  },
  {
   "cell_type": "code",
   "execution_count": 158,
   "metadata": {
    "collapsed": false,
    "scrolled": true
   },
   "outputs": [
    {
     "data": {
      "text/plain": [
       "0      11\n",
       "1      10\n",
       "2       4\n",
       "3       4\n",
       "4       4\n",
       "5       3\n",
       "6       3\n",
       "7       3\n",
       "8       2\n",
       "9       2\n",
       "10      2\n",
       "11      2\n",
       "12      1\n",
       "13      1\n",
       "14      1\n",
       "15      1\n",
       "16      1\n",
       "17      0\n",
       "18      0\n",
       "19      0\n",
       "20      0\n",
       "21      0\n",
       "22      0\n",
       "23      0\n",
       "24      0\n",
       "25      0\n",
       "26      0\n",
       "27      0\n",
       "28      0\n",
       "29      0\n",
       "       ..\n",
       "287     0\n",
       "288     0\n",
       "289     0\n",
       "290     0\n",
       "291     0\n",
       "292     0\n",
       "293     0\n",
       "294     0\n",
       "295     0\n",
       "296     0\n",
       "297     0\n",
       "298     0\n",
       "299     0\n",
       "300     0\n",
       "301     0\n",
       "302     0\n",
       "303     0\n",
       "304     0\n",
       "305     0\n",
       "306     0\n",
       "307     0\n",
       "308     0\n",
       "309     0\n",
       "310     0\n",
       "311     0\n",
       "312     0\n",
       "313     0\n",
       "314     0\n",
       "315     0\n",
       "316     0\n",
       "Name: Counter, dtype: int64"
      ]
     },
     "execution_count": 158,
     "metadata": {},
     "output_type": "execute_result"
    }
   ],
   "source": [
    "bb['Counter']"
   ]
  },
  {
   "cell_type": "code",
   "execution_count": 159,
   "metadata": {
    "collapsed": true
   },
   "outputs": [],
   "source": [
    "#Create Feature: Was Ever Number One Flag\n",
    "bb['WasEverNumber1'] = bb['Counter'].apply(lambda x: 1 if x > 0 else 0)\n"
   ]
  },
  {
   "cell_type": "code",
   "execution_count": 160,
   "metadata": {
    "collapsed": false,
    "scrolled": true
   },
   "outputs": [
    {
     "data": {
      "text/html": [
       "<div>\n",
       "<table border=\"1\" class=\"dataframe\">\n",
       "  <thead>\n",
       "    <tr style=\"text-align: right;\">\n",
       "      <th></th>\n",
       "      <th>year</th>\n",
       "      <th>artist_inverted</th>\n",
       "      <th>track</th>\n",
       "      <th>time</th>\n",
       "      <th>genre</th>\n",
       "      <th>date_entered</th>\n",
       "      <th>date_peaked</th>\n",
       "      <th>x1st_week</th>\n",
       "      <th>x2nd_week</th>\n",
       "      <th>x3rd_week</th>\n",
       "      <th>...</th>\n",
       "      <th>x70th_week</th>\n",
       "      <th>x71st_week</th>\n",
       "      <th>x72nd_week</th>\n",
       "      <th>x73rd_week</th>\n",
       "      <th>x74th_week</th>\n",
       "      <th>x75th_week</th>\n",
       "      <th>x76th_week</th>\n",
       "      <th>date_diff</th>\n",
       "      <th>Counter</th>\n",
       "      <th>WasEverNumber1</th>\n",
       "    </tr>\n",
       "  </thead>\n",
       "  <tbody>\n",
       "    <tr>\n",
       "      <th>0</th>\n",
       "      <td>2000</td>\n",
       "      <td>Destiny's Child</td>\n",
       "      <td>Independent Women Part I</td>\n",
       "      <td>03:38:00</td>\n",
       "      <td>Rock</td>\n",
       "      <td>2000-09-23</td>\n",
       "      <td>2000-11-18</td>\n",
       "      <td>78</td>\n",
       "      <td>63</td>\n",
       "      <td>49</td>\n",
       "      <td>...</td>\n",
       "      <td>0</td>\n",
       "      <td>0</td>\n",
       "      <td>0</td>\n",
       "      <td>0</td>\n",
       "      <td>0</td>\n",
       "      <td>0</td>\n",
       "      <td>0</td>\n",
       "      <td>56</td>\n",
       "      <td>11</td>\n",
       "      <td>1</td>\n",
       "    </tr>\n",
       "    <tr>\n",
       "      <th>1</th>\n",
       "      <td>2000</td>\n",
       "      <td>Santana</td>\n",
       "      <td>Maria, Maria</td>\n",
       "      <td>04:18:00</td>\n",
       "      <td>Rock</td>\n",
       "      <td>2000-02-12</td>\n",
       "      <td>2000-04-08</td>\n",
       "      <td>15</td>\n",
       "      <td>8</td>\n",
       "      <td>6</td>\n",
       "      <td>...</td>\n",
       "      <td>0</td>\n",
       "      <td>0</td>\n",
       "      <td>0</td>\n",
       "      <td>0</td>\n",
       "      <td>0</td>\n",
       "      <td>0</td>\n",
       "      <td>0</td>\n",
       "      <td>56</td>\n",
       "      <td>10</td>\n",
       "      <td>1</td>\n",
       "    </tr>\n",
       "    <tr>\n",
       "      <th>2</th>\n",
       "      <td>2000</td>\n",
       "      <td>Savage Garden</td>\n",
       "      <td>I Knew I Loved You</td>\n",
       "      <td>04:07:00</td>\n",
       "      <td>Rock</td>\n",
       "      <td>1999-10-23</td>\n",
       "      <td>2000-01-29</td>\n",
       "      <td>71</td>\n",
       "      <td>48</td>\n",
       "      <td>43</td>\n",
       "      <td>...</td>\n",
       "      <td>0</td>\n",
       "      <td>0</td>\n",
       "      <td>0</td>\n",
       "      <td>0</td>\n",
       "      <td>0</td>\n",
       "      <td>0</td>\n",
       "      <td>0</td>\n",
       "      <td>98</td>\n",
       "      <td>4</td>\n",
       "      <td>1</td>\n",
       "    </tr>\n",
       "    <tr>\n",
       "      <th>3</th>\n",
       "      <td>2000</td>\n",
       "      <td>Madonna</td>\n",
       "      <td>Music</td>\n",
       "      <td>03:45:00</td>\n",
       "      <td>Rock</td>\n",
       "      <td>2000-08-12</td>\n",
       "      <td>2000-09-16</td>\n",
       "      <td>41</td>\n",
       "      <td>23</td>\n",
       "      <td>18</td>\n",
       "      <td>...</td>\n",
       "      <td>0</td>\n",
       "      <td>0</td>\n",
       "      <td>0</td>\n",
       "      <td>0</td>\n",
       "      <td>0</td>\n",
       "      <td>0</td>\n",
       "      <td>0</td>\n",
       "      <td>35</td>\n",
       "      <td>4</td>\n",
       "      <td>1</td>\n",
       "    </tr>\n",
       "    <tr>\n",
       "      <th>4</th>\n",
       "      <td>2000</td>\n",
       "      <td>Aguilera, Christina</td>\n",
       "      <td>Come On Over Baby (All I Want Is You)</td>\n",
       "      <td>03:38:00</td>\n",
       "      <td>Rock</td>\n",
       "      <td>2000-08-05</td>\n",
       "      <td>2000-10-14</td>\n",
       "      <td>57</td>\n",
       "      <td>47</td>\n",
       "      <td>45</td>\n",
       "      <td>...</td>\n",
       "      <td>0</td>\n",
       "      <td>0</td>\n",
       "      <td>0</td>\n",
       "      <td>0</td>\n",
       "      <td>0</td>\n",
       "      <td>0</td>\n",
       "      <td>0</td>\n",
       "      <td>70</td>\n",
       "      <td>4</td>\n",
       "      <td>1</td>\n",
       "    </tr>\n",
       "    <tr>\n",
       "      <th>5</th>\n",
       "      <td>2000</td>\n",
       "      <td>Janet</td>\n",
       "      <td>Doesn't Really Matter</td>\n",
       "      <td>04:17:00</td>\n",
       "      <td>Rock</td>\n",
       "      <td>2000-06-17</td>\n",
       "      <td>2000-08-26</td>\n",
       "      <td>59</td>\n",
       "      <td>52</td>\n",
       "      <td>43</td>\n",
       "      <td>...</td>\n",
       "      <td>0</td>\n",
       "      <td>0</td>\n",
       "      <td>0</td>\n",
       "      <td>0</td>\n",
       "      <td>0</td>\n",
       "      <td>0</td>\n",
       "      <td>0</td>\n",
       "      <td>70</td>\n",
       "      <td>3</td>\n",
       "      <td>1</td>\n",
       "    </tr>\n",
       "    <tr>\n",
       "      <th>6</th>\n",
       "      <td>2000</td>\n",
       "      <td>Destiny's Child</td>\n",
       "      <td>Say My Name</td>\n",
       "      <td>04:31:00</td>\n",
       "      <td>Rock'n'roll</td>\n",
       "      <td>1999-12-25</td>\n",
       "      <td>2000-03-18</td>\n",
       "      <td>83</td>\n",
       "      <td>83</td>\n",
       "      <td>44</td>\n",
       "      <td>...</td>\n",
       "      <td>0</td>\n",
       "      <td>0</td>\n",
       "      <td>0</td>\n",
       "      <td>0</td>\n",
       "      <td>0</td>\n",
       "      <td>0</td>\n",
       "      <td>0</td>\n",
       "      <td>84</td>\n",
       "      <td>3</td>\n",
       "      <td>1</td>\n",
       "    </tr>\n",
       "    <tr>\n",
       "      <th>7</th>\n",
       "      <td>2000</td>\n",
       "      <td>Iglesias, Enrique</td>\n",
       "      <td>Be With You</td>\n",
       "      <td>03:36:00</td>\n",
       "      <td>Latin</td>\n",
       "      <td>2000-04-01</td>\n",
       "      <td>2000-06-24</td>\n",
       "      <td>63</td>\n",
       "      <td>45</td>\n",
       "      <td>34</td>\n",
       "      <td>...</td>\n",
       "      <td>0</td>\n",
       "      <td>0</td>\n",
       "      <td>0</td>\n",
       "      <td>0</td>\n",
       "      <td>0</td>\n",
       "      <td>0</td>\n",
       "      <td>0</td>\n",
       "      <td>84</td>\n",
       "      <td>3</td>\n",
       "      <td>1</td>\n",
       "    </tr>\n",
       "    <tr>\n",
       "      <th>8</th>\n",
       "      <td>2000</td>\n",
       "      <td>Sisqo</td>\n",
       "      <td>Incomplete</td>\n",
       "      <td>03:52:00</td>\n",
       "      <td>Rock'n'roll</td>\n",
       "      <td>2000-06-24</td>\n",
       "      <td>2000-08-12</td>\n",
       "      <td>77</td>\n",
       "      <td>66</td>\n",
       "      <td>61</td>\n",
       "      <td>...</td>\n",
       "      <td>0</td>\n",
       "      <td>0</td>\n",
       "      <td>0</td>\n",
       "      <td>0</td>\n",
       "      <td>0</td>\n",
       "      <td>0</td>\n",
       "      <td>0</td>\n",
       "      <td>49</td>\n",
       "      <td>2</td>\n",
       "      <td>1</td>\n",
       "    </tr>\n",
       "    <tr>\n",
       "      <th>9</th>\n",
       "      <td>2000</td>\n",
       "      <td>Lonestar</td>\n",
       "      <td>Amazed</td>\n",
       "      <td>04:25:00</td>\n",
       "      <td>Country</td>\n",
       "      <td>1999-06-05</td>\n",
       "      <td>2000-03-04</td>\n",
       "      <td>81</td>\n",
       "      <td>54</td>\n",
       "      <td>44</td>\n",
       "      <td>...</td>\n",
       "      <td>0</td>\n",
       "      <td>0</td>\n",
       "      <td>0</td>\n",
       "      <td>0</td>\n",
       "      <td>0</td>\n",
       "      <td>0</td>\n",
       "      <td>0</td>\n",
       "      <td>273</td>\n",
       "      <td>2</td>\n",
       "      <td>1</td>\n",
       "    </tr>\n",
       "    <tr>\n",
       "      <th>10</th>\n",
       "      <td>2000</td>\n",
       "      <td>N'Sync</td>\n",
       "      <td>It's Gonna Be Me</td>\n",
       "      <td>03:10:00</td>\n",
       "      <td>Rock'n'roll</td>\n",
       "      <td>2000-05-06</td>\n",
       "      <td>2000-07-29</td>\n",
       "      <td>82</td>\n",
       "      <td>70</td>\n",
       "      <td>51</td>\n",
       "      <td>...</td>\n",
       "      <td>0</td>\n",
       "      <td>0</td>\n",
       "      <td>0</td>\n",
       "      <td>0</td>\n",
       "      <td>0</td>\n",
       "      <td>0</td>\n",
       "      <td>0</td>\n",
       "      <td>84</td>\n",
       "      <td>2</td>\n",
       "      <td>1</td>\n",
       "    </tr>\n",
       "    <tr>\n",
       "      <th>11</th>\n",
       "      <td>2000</td>\n",
       "      <td>Aguilera, Christina</td>\n",
       "      <td>What A Girl Wants</td>\n",
       "      <td>03:18:00</td>\n",
       "      <td>Rock'n'roll</td>\n",
       "      <td>1999-11-27</td>\n",
       "      <td>2000-01-15</td>\n",
       "      <td>71</td>\n",
       "      <td>51</td>\n",
       "      <td>28</td>\n",
       "      <td>...</td>\n",
       "      <td>0</td>\n",
       "      <td>0</td>\n",
       "      <td>0</td>\n",
       "      <td>0</td>\n",
       "      <td>0</td>\n",
       "      <td>0</td>\n",
       "      <td>0</td>\n",
       "      <td>49</td>\n",
       "      <td>2</td>\n",
       "      <td>1</td>\n",
       "    </tr>\n",
       "    <tr>\n",
       "      <th>12</th>\n",
       "      <td>2000</td>\n",
       "      <td>Vertical Horizon</td>\n",
       "      <td>Everything You Want</td>\n",
       "      <td>04:01:00</td>\n",
       "      <td>Rock'n'roll</td>\n",
       "      <td>2000-01-22</td>\n",
       "      <td>2000-07-15</td>\n",
       "      <td>70</td>\n",
       "      <td>61</td>\n",
       "      <td>53</td>\n",
       "      <td>...</td>\n",
       "      <td>0</td>\n",
       "      <td>0</td>\n",
       "      <td>0</td>\n",
       "      <td>0</td>\n",
       "      <td>0</td>\n",
       "      <td>0</td>\n",
       "      <td>0</td>\n",
       "      <td>175</td>\n",
       "      <td>1</td>\n",
       "      <td>1</td>\n",
       "    </tr>\n",
       "    <tr>\n",
       "      <th>13</th>\n",
       "      <td>2000</td>\n",
       "      <td>Creed</td>\n",
       "      <td>With Arms Wide Open</td>\n",
       "      <td>03:52:00</td>\n",
       "      <td>Rock'n'roll</td>\n",
       "      <td>2000-05-13</td>\n",
       "      <td>2000-11-11</td>\n",
       "      <td>84</td>\n",
       "      <td>78</td>\n",
       "      <td>76</td>\n",
       "      <td>...</td>\n",
       "      <td>0</td>\n",
       "      <td>0</td>\n",
       "      <td>0</td>\n",
       "      <td>0</td>\n",
       "      <td>0</td>\n",
       "      <td>0</td>\n",
       "      <td>0</td>\n",
       "      <td>182</td>\n",
       "      <td>1</td>\n",
       "      <td>1</td>\n",
       "    </tr>\n",
       "    <tr>\n",
       "      <th>14</th>\n",
       "      <td>2000</td>\n",
       "      <td>Aaliyah</td>\n",
       "      <td>Try Again</td>\n",
       "      <td>04:03:00</td>\n",
       "      <td>Rock'n'roll</td>\n",
       "      <td>2000-03-18</td>\n",
       "      <td>2000-06-17</td>\n",
       "      <td>59</td>\n",
       "      <td>53</td>\n",
       "      <td>38</td>\n",
       "      <td>...</td>\n",
       "      <td>0</td>\n",
       "      <td>0</td>\n",
       "      <td>0</td>\n",
       "      <td>0</td>\n",
       "      <td>0</td>\n",
       "      <td>0</td>\n",
       "      <td>0</td>\n",
       "      <td>91</td>\n",
       "      <td>1</td>\n",
       "      <td>1</td>\n",
       "    </tr>\n",
       "    <tr>\n",
       "      <th>15</th>\n",
       "      <td>2000</td>\n",
       "      <td>matchbox twenty</td>\n",
       "      <td>Bent</td>\n",
       "      <td>04:12:00</td>\n",
       "      <td>Rock</td>\n",
       "      <td>2000-04-29</td>\n",
       "      <td>2000-07-22</td>\n",
       "      <td>60</td>\n",
       "      <td>37</td>\n",
       "      <td>29</td>\n",
       "      <td>...</td>\n",
       "      <td>0</td>\n",
       "      <td>0</td>\n",
       "      <td>0</td>\n",
       "      <td>0</td>\n",
       "      <td>0</td>\n",
       "      <td>0</td>\n",
       "      <td>0</td>\n",
       "      <td>84</td>\n",
       "      <td>1</td>\n",
       "      <td>1</td>\n",
       "    </tr>\n",
       "    <tr>\n",
       "      <th>16</th>\n",
       "      <td>2000</td>\n",
       "      <td>Carey, Mariah</td>\n",
       "      <td>Thank God I Found You</td>\n",
       "      <td>04:14:00</td>\n",
       "      <td>Rock</td>\n",
       "      <td>1999-12-11</td>\n",
       "      <td>2000-02-19</td>\n",
       "      <td>82</td>\n",
       "      <td>68</td>\n",
       "      <td>50</td>\n",
       "      <td>...</td>\n",
       "      <td>0</td>\n",
       "      <td>0</td>\n",
       "      <td>0</td>\n",
       "      <td>0</td>\n",
       "      <td>0</td>\n",
       "      <td>0</td>\n",
       "      <td>0</td>\n",
       "      <td>70</td>\n",
       "      <td>1</td>\n",
       "      <td>1</td>\n",
       "    </tr>\n",
       "  </tbody>\n",
       "</table>\n",
       "<p>17 rows × 86 columns</p>\n",
       "</div>"
      ],
      "text/plain": [
       "    year      artist_inverted                                  track  \\\n",
       "0   2000      Destiny's Child               Independent Women Part I   \n",
       "1   2000              Santana                           Maria, Maria   \n",
       "2   2000        Savage Garden                     I Knew I Loved You   \n",
       "3   2000              Madonna                                  Music   \n",
       "4   2000  Aguilera, Christina  Come On Over Baby (All I Want Is You)   \n",
       "5   2000                Janet                  Doesn't Really Matter   \n",
       "6   2000      Destiny's Child                            Say My Name   \n",
       "7   2000    Iglesias, Enrique                            Be With You   \n",
       "8   2000                Sisqo                             Incomplete   \n",
       "9   2000             Lonestar                                 Amazed   \n",
       "10  2000               N'Sync                       It's Gonna Be Me   \n",
       "11  2000  Aguilera, Christina                      What A Girl Wants   \n",
       "12  2000     Vertical Horizon                    Everything You Want   \n",
       "13  2000                Creed                    With Arms Wide Open   \n",
       "14  2000              Aaliyah                              Try Again   \n",
       "15  2000      matchbox twenty                                   Bent   \n",
       "16  2000        Carey, Mariah                  Thank God I Found You   \n",
       "\n",
       "        time        genre date_entered date_peaked  x1st_week  x2nd_week  \\\n",
       "0   03:38:00         Rock   2000-09-23  2000-11-18         78         63   \n",
       "1   04:18:00         Rock   2000-02-12  2000-04-08         15          8   \n",
       "2   04:07:00         Rock   1999-10-23  2000-01-29         71         48   \n",
       "3   03:45:00         Rock   2000-08-12  2000-09-16         41         23   \n",
       "4   03:38:00         Rock   2000-08-05  2000-10-14         57         47   \n",
       "5   04:17:00         Rock   2000-06-17  2000-08-26         59         52   \n",
       "6   04:31:00  Rock'n'roll   1999-12-25  2000-03-18         83         83   \n",
       "7   03:36:00        Latin   2000-04-01  2000-06-24         63         45   \n",
       "8   03:52:00  Rock'n'roll   2000-06-24  2000-08-12         77         66   \n",
       "9   04:25:00      Country   1999-06-05  2000-03-04         81         54   \n",
       "10  03:10:00  Rock'n'roll   2000-05-06  2000-07-29         82         70   \n",
       "11  03:18:00  Rock'n'roll   1999-11-27  2000-01-15         71         51   \n",
       "12  04:01:00  Rock'n'roll   2000-01-22  2000-07-15         70         61   \n",
       "13  03:52:00  Rock'n'roll   2000-05-13  2000-11-11         84         78   \n",
       "14  04:03:00  Rock'n'roll   2000-03-18  2000-06-17         59         53   \n",
       "15  04:12:00         Rock   2000-04-29  2000-07-22         60         37   \n",
       "16  04:14:00         Rock   1999-12-11  2000-02-19         82         68   \n",
       "\n",
       "    x3rd_week       ...        x70th_week  x71st_week  x72nd_week  x73rd_week  \\\n",
       "0          49       ...                 0           0           0           0   \n",
       "1           6       ...                 0           0           0           0   \n",
       "2          43       ...                 0           0           0           0   \n",
       "3          18       ...                 0           0           0           0   \n",
       "4          45       ...                 0           0           0           0   \n",
       "5          43       ...                 0           0           0           0   \n",
       "6          44       ...                 0           0           0           0   \n",
       "7          34       ...                 0           0           0           0   \n",
       "8          61       ...                 0           0           0           0   \n",
       "9          44       ...                 0           0           0           0   \n",
       "10         51       ...                 0           0           0           0   \n",
       "11         28       ...                 0           0           0           0   \n",
       "12         53       ...                 0           0           0           0   \n",
       "13         76       ...                 0           0           0           0   \n",
       "14         38       ...                 0           0           0           0   \n",
       "15         29       ...                 0           0           0           0   \n",
       "16         50       ...                 0           0           0           0   \n",
       "\n",
       "    x74th_week  x75th_week  x76th_week  date_diff  Counter  WasEverNumber1  \n",
       "0            0           0           0         56       11               1  \n",
       "1            0           0           0         56       10               1  \n",
       "2            0           0           0         98        4               1  \n",
       "3            0           0           0         35        4               1  \n",
       "4            0           0           0         70        4               1  \n",
       "5            0           0           0         70        3               1  \n",
       "6            0           0           0         84        3               1  \n",
       "7            0           0           0         84        3               1  \n",
       "8            0           0           0         49        2               1  \n",
       "9            0           0           0        273        2               1  \n",
       "10           0           0           0         84        2               1  \n",
       "11           0           0           0         49        2               1  \n",
       "12           0           0           0        175        1               1  \n",
       "13           0           0           0        182        1               1  \n",
       "14           0           0           0         91        1               1  \n",
       "15           0           0           0         84        1               1  \n",
       "16           0           0           0         70        1               1  \n",
       "\n",
       "[17 rows x 86 columns]"
      ]
     },
     "execution_count": 160,
     "metadata": {},
     "output_type": "execute_result"
    }
   ],
   "source": [
    "bb[(bb['WasEverNumber1']==1)]\n"
   ]
  },
  {
   "cell_type": "code",
   "execution_count": 161,
   "metadata": {
    "collapsed": false
   },
   "outputs": [
    {
     "name": "stdout",
     "output_type": "stream",
     "text": [
      "0    300\n",
      "1     17\n",
      "Name: WasEverNumber1, dtype: int64\n"
     ]
    }
   ],
   "source": [
    "print pd.value_counts(bb.WasEverNumber1)\n"
   ]
  },
  {
   "cell_type": "code",
   "execution_count": 162,
   "metadata": {
    "collapsed": false
   },
   "outputs": [
    {
     "name": "stdout",
     "output_type": "stream",
     "text": [
      "Dataframe shape: (317, 86)\n",
      "Artist null values, shape: (0, 86).\n"
     ]
    }
   ],
   "source": [
    "print 'Dataframe shape: {}'.format(bb.shape)\n",
    "print 'Artist null values, shape: {}.'.format(bb[bb.artist_inverted.isnull() == True].shape)\n"
   ]
  },
  {
   "cell_type": "code",
   "execution_count": 163,
   "metadata": {
    "collapsed": true
   },
   "outputs": [],
   "source": [
    "bb_df1 = bb[(bb['WasEverNumber1']==1)]\n"
   ]
  },
  {
   "cell_type": "code",
   "execution_count": 164,
   "metadata": {
    "collapsed": true
   },
   "outputs": [],
   "source": [
    "def summary_stats(col, data):\n",
    "    print 'COLUMN: ' + col\n",
    "    print 'mean: ' + str(np.mean(data))\n",
    "    print 'median: ' + str(np.median(data))\n",
    "    print 'mode: ' + str(stats.mode([round(d) for d in data]))\n",
    "    print 'variance: ' + str(np.var(data))\n",
    "    print 'standard deviation: ' + str(np.std(data))\n",
    " "
   ]
  },
  {
   "cell_type": "code",
   "execution_count": 165,
   "metadata": {
    "collapsed": false
   },
   "outputs": [
    {
     "name": "stdout",
     "output_type": "stream",
     "text": [
      "COLUMN: date_diff\n",
      "mean: 94.7058823529\n",
      "median: 84.0\n",
      "mode: ModeResult(mode=array([ 84.]), count=array([4]))\n",
      "variance: 3465.26643599\n",
      "standard deviation: 58.8665137067\n"
     ]
    }
   ],
   "source": [
    "summary_stats('date_diff',bb_df1['date_diff'])\n"
   ]
  },
  {
   "cell_type": "code",
   "execution_count": 166,
   "metadata": {
    "collapsed": false
   },
   "outputs": [
    {
     "name": "stdout",
     "output_type": "stream",
     "text": [
      "COLUMN: date_diff\n",
      "mean: 52.2460567823\n",
      "median: 49.0\n",
      "mode: ModeResult(mode=array([ 49.]), count=array([30]))\n",
      "variance: 1664.89213745\n",
      "standard deviation: 40.8030898027\n"
     ]
    }
   ],
   "source": [
    "summary_stats('date_diff',bb['date_diff'])\n"
   ]
  },
  {
   "cell_type": "code",
   "execution_count": 167,
   "metadata": {
    "collapsed": true
   },
   "outputs": [],
   "source": [
    "#Pre-work for p-value calculation\n",
    "a_mean = bb_df1['date_diff'].mean()\n",
    "b_mean = bb['date_diff'].mean()\n",
    "\n",
    "a_var = bb_df1['date_diff'].var()\n",
    "b_var = bb['date_diff'].var()\n",
    "\n",
    "a_n = len(bb_df1['date_diff'])\n",
    "b_n = len(bb['date_diff'])\n"
   ]
  },
  {
   "cell_type": "code",
   "execution_count": 168,
   "metadata": {
    "collapsed": false
   },
   "outputs": [
    {
     "data": {
      "text/plain": [
       "2.8506942797193311"
      ]
     },
     "execution_count": 168,
     "metadata": {},
     "output_type": "execute_result"
    }
   ],
   "source": [
    "numerator = a_mean - b_mean\n",
    "denominator = np.sqrt((a_var / a_n) + (b_var / b_n))\n",
    "z = numerator / denominator\n",
    "z\n"
   ]
  },
  {
   "cell_type": "code",
   "execution_count": 169,
   "metadata": {
    "collapsed": false
   },
   "outputs": [
    {
     "data": {
      "text/plain": [
       "42.45982557060679"
      ]
     },
     "execution_count": 169,
     "metadata": {},
     "output_type": "execute_result"
    }
   ],
   "source": [
    "numerator"
   ]
  },
  {
   "cell_type": "code",
   "execution_count": 170,
   "metadata": {
    "collapsed": false
   },
   "outputs": [
    {
     "data": {
      "text/plain": [
       "0.0021811945504529584"
      ]
     },
     "execution_count": 170,
     "metadata": {},
     "output_type": "execute_result"
    }
   ],
   "source": [
    "#P value calcultation\n",
    "p_val = 1 - stats.norm.cdf(z)\n",
    "p_val\n"
   ]
  },
  {
   "cell_type": "code",
   "execution_count": 172,
   "metadata": {
    "collapsed": false
   },
   "outputs": [
    {
     "data": {
      "text/plain": [
       "0.0043623891009059168"
      ]
     },
     "execution_count": 172,
     "metadata": {},
     "output_type": "execute_result"
    }
   ],
   "source": [
    "#Account for two-tail test\n",
    "ttest = p_val*2\n",
    "ttest\n"
   ]
  },
  {
   "cell_type": "code",
   "execution_count": 178,
   "metadata": {
    "collapsed": false
   },
   "outputs": [
    {
     "name": "stdout",
     "output_type": "stream",
     "text": [
      "P-value : 0.00218119455045\n",
      "Alpha/Significance Level : 0.05\n",
      "Two-tail T-test : 0.00436238910091\n",
      "Is P-value greater than Alpha : False\n",
      "Is T-test greater than Alpha  : False\n"
     ]
    }
   ],
   "source": [
    "#Reject the Null Hypothesis if pval>alpha\n",
    "#where Null hypothesis is: there is no difference between how quickly songs that have been #1 vs not\n",
    "alpha = .05 \n",
    "print \"P-value :\", p_val\n",
    "print \"Alpha/Significance Level :\", alpha\n",
    "print \"Two-tail T-test :\", ttest \n",
    "print \"Is P-value greater than Alpha :\", p_val > alpha\n",
    "print \"Is T-test greater than Alpha  :\", ttest > alpha\n"
   ]
  },
  {
   "cell_type": "code",
   "execution_count": 135,
   "metadata": {
    "collapsed": false
   },
   "outputs": [
    {
     "name": "stdout",
     "output_type": "stream",
     "text": [
      "Ttest_1sampResult(statistic=-18.497782589362931, pvalue=2.7919259963367733e-52)\n"
     ]
    }
   ],
   "source": [
    "#Running p-values using SciPy\n",
    "sample = stats.ttest_1samp(bb['date_diff'], a_mean)\n",
    "print sample\n"
   ]
  },
  {
   "cell_type": "code",
   "execution_count": 137,
   "metadata": {
    "collapsed": false
   },
   "outputs": [
    {
     "data": {
      "image/png": "[encoded data removed]",
      "text/plain": [
       "<matplotlib.figure.Figure at 0x119ea5150>"
      ]
     },
     "metadata": {},
     "output_type": "display_data"
    }
   ],
   "source": [
    "#Histogram for Songs that became chart toppers in days\n",
    "ax = sns.distplot(bb_df1['date_diff'], bins=10)\n",
    "sns.distplot(bb_df1['date_diff'], color='darkred', bins=10, ax=ax)\n",
    "\n",
    "ax = plt.axes()\n",
    "ax.set_title('Histogram of Date Peaked, Date Entered for Those Songs that Were Ever #1 in 2001 Top 100 Chart')\n",
    "\n",
    "plt.xlabel('Difference in Days', fontsize=10)\n",
    "plt.ylabel('Distribution', fontsize=10)\n",
    "\n",
    "plt.show()\n"
   ]
  },
  {
   "cell_type": "code",
   "execution_count": 138,
   "metadata": {
    "collapsed": false
   },
   "outputs": [
    {
     "data": {
      "image/png": "[encoded data removed]",
      "text/plain": [
       "<matplotlib.figure.Figure at 0x10448b9d0>"
      ]
     },
     "metadata": {},
     "output_type": "display_data"
    }
   ],
   "source": [
    "ax = sns.distplot(bb['date_diff'], bins=10)\n",
    "sns.distplot(bb['date_diff'], color='yellow', bins=10, ax=ax)\n",
    "\n",
    "ax = plt.axes()\n",
    "ax.set_title('Histogram of All Songs (whether #1 Or Not) Top 100 Chart in 2001')\n",
    "plt.xlabel('Difference in Days', fontsize=10)\n",
    "plt.ylabel('Distribution', fontsize=1)\n",
    "plt.show()\n"
   ]
  },
  {
   "cell_type": "code",
   "execution_count": 124,
   "metadata": {
    "collapsed": false
   },
   "outputs": [
    {
     "name": "stdout",
     "output_type": "stream",
     "text": [
      "42.4598255706\n"
     ]
    }
   ],
   "source": [
    "#Convert date difference for Was Ever Number Song and those Not Ever Number One to list\n",
    "#Lists to be used in shuffling technique below\n",
    "list_1 = bb_df1['date_diff'].tolist()\n",
    "list_0 = bb['date_diff'].tolist()\n",
    "print np.mean(list_1) - np.mean(list_0)\n",
    "list_nums = list_1 + list_0\n"
   ]
  },
  {
   "cell_type": "code",
   "execution_count": 126,
   "metadata": {
    "collapsed": false
   },
   "outputs": [
    {
     "name": "stdout",
     "output_type": "stream",
     "text": [
      "0.0003\n"
     ]
    }
   ],
   "source": [
    "#Run a reshuffling simulation of 10,000 where reshuffling the difference between date song peaked\n",
    "#Versus date song entered\n",
    "m = 0 \n",
    "for i in range(10000):\n",
    "    shuffle(list_nums)\n",
    "    difference = sum(list_nums[:17])/len(list_nums[:17]) - sum(list_nums[17:])/len(list_nums[17:])\n",
    "    if (difference >= 42.460):\n",
    "        m+=1\n",
    "p = m / 10000.0\n",
    "print p\n"
   ]
  }
 ],
 "metadata": {
  "kernelspec": {
   "display_name": "Python [conda root]",
   "language": "python",
   "name": "conda-root-py"
  },
  "language_info": {
   "codemirror_mode": {
    "name": "ipython",
    "version": 2
   },
   "file_extension": ".py",
   "mimetype": "text/x-python",
   "name": "python",
   "nbconvert_exporter": "python",
   "pygments_lexer": "ipython2",
   "version": "2.7.12"
  }
 },
 "nbformat": 4,
 "nbformat_minor": 1
}
